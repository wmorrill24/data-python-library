{
 "cells": [
  {
   "cell_type": "code",
   "execution_count": 1,
   "id": "ebd4a73b",
   "metadata": {},
   "outputs": [],
   "source": [
    "from data_ingestion import upload_file, search_file, generate_metadata_template, download_file\n",
    "from rich.console import Console\n",
    "import os\n",
    "import uuid\n",
    "import pandas as pd\n",
    "import yaml\n",
    "\n"
   ]
  },
  {
   "cell_type": "code",
   "execution_count": 2,
   "id": "01967e15",
   "metadata": {},
   "outputs": [
    {
     "name": "stdout",
     "output_type": "stream",
     "text": [
      "Test directory 'notebook_tests' created.\n",
      "All test data and metadata files have been created.\n"
     ]
    }
   ],
   "source": [
    "TEST_DIR = \"notebook_tests\"\n",
    "os.makedirs(TEST_DIR, exist_ok=True)\n",
    "print(f\"Test directory '{TEST_DIR}' created.\")\n",
    "\n",
    "# --- Create Data Files ---\n",
    "with open(os.path.join(TEST_DIR, \"report_alpha_v1.pdf\"), \"w\") as f:\n",
    "    f.write(\"This is the first report for Project Alpha.\")\n",
    "\n",
    "with open(os.path.join(TEST_DIR, \"raw data !! special.mat\"), \"w\") as f:\n",
    "    f.write(\"Matlab data with special characters in name.\")\n",
    "\n",
    "with open(os.path.join(TEST_DIR, \"beta_image.jpg\"), \"w\") as f:\n",
    "    f.write(\"Fake JPG content.\")\n",
    "    \n",
    "# --- Create Metadata YAML Files ---\n",
    "metadata_alpha_v1 = {\n",
    "    \"research_project_id\": \"ProjectAlpha\",\n",
    "    \"author\": \"Dr. Reed\",\n",
    "    \"experiment_type\": \"Initial Analysis\",\n",
    "    \"date_conducted\": \"2025-05-15\",\n",
    "    \"custom_tags\": \"draft, analysis, report\"\n",
    "}\n",
    "with open(os.path.join(TEST_DIR, \"report_alpha_v1.yaml\"), \"w\") as f:\n",
    "    yaml.dump(metadata_alpha_v1, f)\n",
    "\n",
    "metadata_special_chars = {\n",
    "    \"research_project_id\": \"ProjectAlpha / SubGroup B!\",\n",
    "    \"author\": \"Dr. Müller\",\n",
    "    \"experiment_type\": \"Sanitization Test\",\n",
    "    \"date_conducted\": \"2025-05-20\",\n",
    "    \"custom_tags\": \"edge_case, sanitization\"\n",
    "}\n",
    "with open(os.path.join(TEST_DIR, \"raw data !! special.yaml\"), \"w\") as f:\n",
    "    yaml.dump(metadata_special_chars, f)\n",
    "    \n",
    "metadata_beta = {\n",
    "    \"research_project_id\": \"ProjectBeta\",\n",
    "    \"author\": \"Tech_Smith\",\n",
    "    \"date_conducted\": \"2025-06-01\"\n",
    "    # Note: experiment_type and custom_tags are intentionally omitted\n",
    "}\n",
    "with open(os.path.join(TEST_DIR, \"beta_image.yaml\"), \"w\") as f:\n",
    "    yaml.dump(metadata_beta, f)\n",
    "\n",
    "print(\"All test data and metadata files have been created.\")"
   ]
  },
  {
   "cell_type": "code",
   "execution_count": 3,
   "id": "81c1e7fa",
   "metadata": {},
   "outputs": [
    {
     "name": "stderr",
     "output_type": "stream",
     "text": [
      "INFO: Starting ingestion for data file: 'notebook_tests/report_alpha_v1.pdf'\n",
      "INFO: Calling API at http://localhost:8001/uploadfile/...\n",
      "INFO: --- Ingestion Successful ---\n"
     ]
    },
    {
     "name": "stdout",
     "output_type": "stream",
     "text": [
      "--- Running Test 1: Happy Path Upload ---\n"
     ]
    },
    {
     "data": {
      "text/html": [
       "<pre style=\"white-space:pre;overflow-x:auto;line-height:normal;font-family:Menlo,'DejaVu Sans Mono',consolas,'Courier New',monospace\"><span style=\"color: #008000; text-decoration-color: #008000; font-weight: bold\">✅ PASSED: Upload successful. API Response:</span>\n",
       "</pre>\n"
      ],
      "text/plain": [
       "\u001b[1;32m✅ PASSED: Upload successful. API Response:\u001b[0m\n"
      ]
     },
     "metadata": {},
     "output_type": "display_data"
    },
    {
     "data": {
      "text/html": [
       "<pre style=\"white-space:pre;overflow-x:auto;line-height:normal;font-family:Menlo,'DejaVu Sans Mono',consolas,'Courier New',monospace\"><span style=\"font-weight: bold\">{</span>\n",
       "    <span style=\"color: #008000; text-decoration-color: #008000\">'message'</span>: <span style=\"color: #008000; text-decoration-color: #008000\">\"File 'report_alpha_v1.pdf' processed. Metadata stored successfully.\"</span>,\n",
       "    <span style=\"color: #008000; text-decoration-color: #008000\">'db_file_id'</span>: <span style=\"color: #008000; text-decoration-color: #008000\">'424131a1-c65a-4a82-ab8f-fd8e3dadfc9d'</span>,\n",
       "    <span style=\"color: #008000; text-decoration-color: #008000\">'minio_bucket'</span>: <span style=\"color: #008000; text-decoration-color: #008000\">'raw-data'</span>,\n",
       "    <span style=\"color: #008000; text-decoration-color: #008000\">'minio_object_name'</span>: <span style=\"color: #008000; text-decoration-color: #008000\">'ProjectAlpha/report_alpha_v1(2).pdf'</span>,\n",
       "    <span style=\"color: #008000; text-decoration-color: #008000\">'original_filename'</span>: <span style=\"color: #008000; text-decoration-color: #008000\">'report_alpha_v1.pdf'</span>,\n",
       "    <span style=\"color: #008000; text-decoration-color: #008000\">'etag_minio'</span>: <span style=\"color: #008000; text-decoration-color: #008000\">'ec25ece2405bbb6fe03564814d151806'</span>,\n",
       "    <span style=\"color: #008000; text-decoration-color: #008000\">'metadata_db_status'</span>: <span style=\"color: #008000; text-decoration-color: #008000\">'success'</span>,\n",
       "    <span style=\"color: #008000; text-decoration-color: #008000\">'metadata_db_message'</span>: <span style=\"color: #008000; text-decoration-color: #008000\">'Metadata stored successfully.'</span>,\n",
       "    <span style=\"color: #008000; text-decoration-color: #008000\">'db_details'</span>: <span style=\"font-weight: bold\">{</span>\n",
       "        <span style=\"color: #008000; text-decoration-color: #008000\">'original_file_name'</span>: <span style=\"color: #008000; text-decoration-color: #008000\">'report_alpha_v1.pdf'</span>,\n",
       "        <span style=\"color: #008000; text-decoration-color: #008000\">'minio_object_path'</span>: <span style=\"color: #008000; text-decoration-color: #008000\">'ProjectAlpha/report_alpha_v1(2).pdf'</span>,\n",
       "        <span style=\"color: #008000; text-decoration-color: #008000\">'research_project_id'</span>: <span style=\"color: #008000; text-decoration-color: #008000\">'ProjectAlpha'</span>\n",
       "    <span style=\"font-weight: bold\">}</span>\n",
       "<span style=\"font-weight: bold\">}</span>\n",
       "</pre>\n"
      ],
      "text/plain": [
       "\u001b[1m{\u001b[0m\n",
       "    \u001b[32m'message'\u001b[0m: \u001b[32m\"File 'report_alpha_v1.pdf' processed. Metadata stored successfully.\"\u001b[0m,\n",
       "    \u001b[32m'db_file_id'\u001b[0m: \u001b[32m'424131a1-c65a-4a82-ab8f-fd8e3dadfc9d'\u001b[0m,\n",
       "    \u001b[32m'minio_bucket'\u001b[0m: \u001b[32m'raw-data'\u001b[0m,\n",
       "    \u001b[32m'minio_object_name'\u001b[0m: \u001b[32m'ProjectAlpha/report_alpha_v1\u001b[0m\u001b[32m(\u001b[0m\u001b[32m2\u001b[0m\u001b[32m)\u001b[0m\u001b[32m.pdf'\u001b[0m,\n",
       "    \u001b[32m'original_filename'\u001b[0m: \u001b[32m'report_alpha_v1.pdf'\u001b[0m,\n",
       "    \u001b[32m'etag_minio'\u001b[0m: \u001b[32m'ec25ece2405bbb6fe03564814d151806'\u001b[0m,\n",
       "    \u001b[32m'metadata_db_status'\u001b[0m: \u001b[32m'success'\u001b[0m,\n",
       "    \u001b[32m'metadata_db_message'\u001b[0m: \u001b[32m'Metadata stored successfully.'\u001b[0m,\n",
       "    \u001b[32m'db_details'\u001b[0m: \u001b[1m{\u001b[0m\n",
       "        \u001b[32m'original_file_name'\u001b[0m: \u001b[32m'report_alpha_v1.pdf'\u001b[0m,\n",
       "        \u001b[32m'minio_object_path'\u001b[0m: \u001b[32m'ProjectAlpha/report_alpha_v1\u001b[0m\u001b[32m(\u001b[0m\u001b[32m2\u001b[0m\u001b[32m)\u001b[0m\u001b[32m.pdf'\u001b[0m,\n",
       "        \u001b[32m'research_project_id'\u001b[0m: \u001b[32m'ProjectAlpha'\u001b[0m\n",
       "    \u001b[1m}\u001b[0m\n",
       "\u001b[1m}\u001b[0m\n"
      ]
     },
     "metadata": {},
     "output_type": "display_data"
    }
   ],
   "source": [
    "console = Console()\n",
    "try:\n",
    "    print(\"--- Running Test 1: Happy Path Upload ---\")\n",
    "    data_path = os.path.join(TEST_DIR, \"report_alpha_v1.pdf\")\n",
    "    meta_path = os.path.join(TEST_DIR, \"report_alpha_v1.yaml\")\n",
    "    \n",
    "    upload_result = upload_file(data_file_path=data_path, metadata_file_path=meta_path)\n",
    "    \n",
    "    console.print(\"✅ PASSED: Upload successful. API Response:\", style=\"bold green\")\n",
    "    console.print(upload_result)\n",
    "    \n",
    "    # Store the file_id for later tests\n",
    "    happy_path_file_id = upload_result.get(\"db_file_id\")\n",
    "    \n",
    "except Exception as e:\n",
    "    console.print(f\"❌ FAILED: {e}\", style=\"bold red\")"
   ]
  },
  {
   "cell_type": "code",
   "execution_count": 4,
   "id": "a7c0fed4",
   "metadata": {},
   "outputs": [
    {
     "name": "stderr",
     "output_type": "stream",
     "text": [
      "INFO: Downloading file to: notebook_tests/downloads/report_alpha_v1.pdf\n",
      "INFO: File downloaded successfully!\n"
     ]
    },
    {
     "name": "stdout",
     "output_type": "stream",
     "text": [
      "\n",
      "--- Running Test 5: Download ---\n",
      "Attempting to download file with ID: 30e98988-0086-4c99-9e89-df0e5072afb5\n"
     ]
    },
    {
     "data": {
      "text/html": [
       "<pre style=\"white-space:pre;overflow-x:auto;line-height:normal;font-family:Menlo,'DejaVu Sans Mono',consolas,'Courier New',monospace\"><span style=\"color: #008000; text-decoration-color: #008000; font-weight: bold\">✅ PASSED: File successfully downloaded to: notebook_tests/downloads/report_alpha_v1.pdf</span>\n",
       "</pre>\n"
      ],
      "text/plain": [
       "\u001b[1;32m✅ PASSED: File successfully downloaded to: notebook_tests/downloads/report_alpha_v1.pdf\u001b[0m\n"
      ]
     },
     "metadata": {},
     "output_type": "display_data"
    }
   ],
   "source": [
    "try:\n",
    "    print(\"\\n--- Running Test 5: Download ---\")\n",
    "    if True:\n",
    "        # Get the ID of the first file found in the previous search\n",
    "        file_to_download_id = '30e98988-0086-4c99-9e89-df0e5072afb5'\n",
    "        original_name = 'report_alpha_v1.pdf'\n",
    "        \n",
    "        # Define a destination for the download\n",
    "        download_destination_folder = os.path.join(TEST_DIR, \"downloads\")\n",
    "        os.makedirs(download_destination_folder, exist_ok=True)\n",
    "        \n",
    "        print(f\"Attempting to download file with ID: {file_to_download_id}\")\n",
    "        \n",
    "        downloaded_path = download_file(\n",
    "            file_id=file_to_download_id,\n",
    "            destination_path=download_destination_folder\n",
    "        )\n",
    "        \n",
    "        assert os.path.exists(downloaded_path) and os.path.getsize(downloaded_path) > 0\n",
    "        console.print(f\"✅ PASSED: File successfully downloaded to: {downloaded_path}\", style=\"bold green\")\n",
    "    else:\n",
    "        console.print(\"[yellow]Skipping download test because no files were found in the previous search.[/yellow]\")\n",
    "\n",
    "except Exception as e:\n",
    "    console.print(f\"❌ FAILED: {e}\", style=\"white\")"
   ]
  },
  {
   "cell_type": "code",
   "execution_count": 8,
   "id": "83e789d0",
   "metadata": {},
   "outputs": [
    {
     "name": "stderr",
     "output_type": "stream",
     "text": [
      "ERROR: API returned an error (Status 404): \n"
     ]
    },
    {
     "name": "stdout",
     "output_type": "stream",
     "text": [
      "\n",
      "--- Running Test 6: Error Handling ---\n",
      "Testing download with a fake UUID...\n"
     ]
    },
    {
     "data": {
      "text/html": [
       "<pre style=\"white-space:pre;overflow-x:auto;line-height:normal;font-family:Menlo,'DejaVu Sans Mono',consolas,'Courier New',monospace\"><span style=\"color: #800000; text-decoration-color: #800000; font-weight: bold\">❌ FAILED: Caught an error, but it wasn't the expected </span><span style=\"color: #008080; text-decoration-color: #008080; font-weight: bold\">404</span><span style=\"color: #800000; text-decoration-color: #800000; font-weight: bold\"> Not Found.</span>\n",
       "</pre>\n"
      ],
      "text/plain": [
       "\u001b[1;31m❌ FAILED: Caught an error, but it wasn't the expected \u001b[0m\u001b[1;36m404\u001b[0m\u001b[1;31m Not Found.\u001b[0m\n"
      ]
     },
     "metadata": {},
     "output_type": "display_data"
    },
    {
     "data": {
      "text/html": [
       "<pre style=\"white-space:pre;overflow-x:auto;line-height:normal;font-family:Menlo,'DejaVu Sans Mono',consolas,'Courier New',monospace\">   Error was: API returned an error <span style=\"font-weight: bold\">(</span>Status <span style=\"color: #008080; text-decoration-color: #008080; font-weight: bold\">404</span><span style=\"font-weight: bold\">)</span>: \n",
       "</pre>\n"
      ],
      "text/plain": [
       "   Error was: API returned an error \u001b[1m(\u001b[0mStatus \u001b[1;36m404\u001b[0m\u001b[1m)\u001b[0m: \n"
      ]
     },
     "metadata": {},
     "output_type": "display_data"
    }
   ],
   "source": [
    "try:\n",
    "    print(\"\\n--- Running Test 6: Error Handling ---\")\n",
    "    print(\"Testing download with a fake UUID...\")\n",
    "    fake_id = str(uuid.uuid4())\n",
    "    download_file(file_id=fake_id, destination_path=\".\")\n",
    "    # If we get here, the test failed because it should have raised an error\n",
    "    console.print(\"❌ FAILED: Download function did not raise an error for a fake UUID.\", style=\"bold red\")\n",
    "except Exception as e:\n",
    "    # We expect an error here. If the error message contains 404, it's correct.\n",
    "    if \"404\" in str(e) and \"not found\" in str(e).lower():\n",
    "        console.print(\"✅ PASSED: Correctly caught expected error for fake UUID.\", style=\"bold green\")\n",
    "        console.print(f\"   Error message: {e}\")\n",
    "    else:\n",
    "        console.print(\"❌ FAILED: Caught an error, but it wasn't the expected 404 Not Found.\", style=\"bold red\")\n",
    "        console.print(f\"   Error was: {e}\")"
   ]
  },
  {
   "cell_type": "code",
   "execution_count": 16,
   "id": "8ea32a58",
   "metadata": {},
   "outputs": [
    {
     "name": "stdout",
     "output_type": "stream",
     "text": [
      "\n",
      "==================================================\n"
     ]
    },
    {
     "data": {
      "text/html": [
       "<pre style=\"white-space:pre;overflow-x:auto;line-height:normal;font-family:Menlo,'DejaVu Sans Mono',consolas,'Courier New',monospace\"><span style=\"color: #008080; text-decoration-color: #008080; font-weight: bold\">Running Test: Find files by Dr. Reed in ProjectAlpha</span>\n",
       "</pre>\n"
      ],
      "text/plain": [
       "\u001b[1;36mRunning Test: Find files by Dr. Reed in ProjectAlpha\u001b[0m\n"
      ]
     },
     "metadata": {},
     "output_type": "display_data"
    },
    {
     "data": {
      "text/html": [
       "<pre style=\"white-space:pre;overflow-x:auto;line-height:normal;font-family:Menlo,'DejaVu Sans Mono',consolas,'Courier New',monospace\">Search Criteria: <span style=\"font-weight: bold\">{</span><span style=\"color: #008000; text-decoration-color: #008000\">'author'</span>: <span style=\"color: #008000; text-decoration-color: #008000\">'Reed'</span>, <span style=\"color: #008000; text-decoration-color: #008000\">'research_project_id'</span>: <span style=\"color: #008000; text-decoration-color: #008000\">'ProjectAlpha'</span><span style=\"font-weight: bold\">}</span>\n",
       "</pre>\n"
      ],
      "text/plain": [
       "Search Criteria: \u001b[1m{\u001b[0m\u001b[32m'author'\u001b[0m: \u001b[32m'Reed'\u001b[0m, \u001b[32m'research_project_id'\u001b[0m: \u001b[32m'ProjectAlpha'\u001b[0m\u001b[1m}\u001b[0m\n"
      ]
     },
     "metadata": {},
     "output_type": "display_data"
    },
    {
     "name": "stderr",
     "output_type": "stream",
     "text": [
      "INFO: Querying API at http://localhost:8001/search/ with parameters: {'research_project_id': 'ProjectAlpha', 'author': 'Reed'}\n"
     ]
    },
    {
     "data": {
      "text/html": [
       "<pre style=\"white-space:pre;overflow-x:auto;line-height:normal;font-family:Menlo,'DejaVu Sans Mono',consolas,'Courier New',monospace\">Search Results:\n",
       "</pre>\n"
      ],
      "text/plain": [
       "Search Results:\n"
      ]
     },
     "metadata": {},
     "output_type": "display_data"
    },
    {
     "data": {
      "text/html": [
       "<pre style=\"white-space:pre;overflow-x:auto;line-height:normal;font-family:Menlo,'DejaVu Sans Mono',consolas,'Courier New',monospace\">                                file_id         file_name    author  \\\n",
       "<span style=\"color: #008080; text-decoration-color: #008080; font-weight: bold\">0</span>  <span style=\"color: #ffff00; text-decoration-color: #ffff00\">f026b38b-04a1-47cd-a8de-4fa5c3a9c1ec</span>  alpha_run_01.txt  Dr. Reed   \n",
       "<span style=\"color: #008080; text-decoration-color: #008080; font-weight: bold\">1</span>  <span style=\"color: #ffff00; text-decoration-color: #ffff00\">84db953e-6e94-4224-a510-02dfdfe5dcea</span>  alpha_run_01.txt  Dr. Reed   \n",
       "\n",
       "  research_project_id date_conducted                 minio_object_path  \n",
       "<span style=\"color: #008080; text-decoration-color: #008080; font-weight: bold\">0</span>        ProjectAlpha     <span style=\"color: #008080; text-decoration-color: #008080; font-weight: bold\">2025</span>-<span style=\"color: #008080; text-decoration-color: #008080; font-weight: bold\">06</span>-<span style=\"color: #008080; text-decoration-color: #008080; font-weight: bold\">05</span>  ProjectAlpha/<span style=\"color: #800080; text-decoration-color: #800080; font-weight: bold\">alpha_run_01</span><span style=\"font-weight: bold\">(</span><span style=\"color: #008080; text-decoration-color: #008080; font-weight: bold\">1</span><span style=\"font-weight: bold\">)</span>.txt  \n",
       "<span style=\"color: #008080; text-decoration-color: #008080; font-weight: bold\">1</span>        ProjectAlpha     <span style=\"color: #008080; text-decoration-color: #008080; font-weight: bold\">2025</span>-<span style=\"color: #008080; text-decoration-color: #008080; font-weight: bold\">06</span>-<span style=\"color: #008080; text-decoration-color: #008080; font-weight: bold\">05</span>     ProjectAlpha/alpha_run_01.txt  \n",
       "</pre>\n"
      ],
      "text/plain": [
       "                                file_id         file_name    author  \\\n",
       "\u001b[1;36m0\u001b[0m  \u001b[93mf026b38b-04a1-47cd-a8de-4fa5c3a9c1ec\u001b[0m  alpha_run_01.txt  Dr. Reed   \n",
       "\u001b[1;36m1\u001b[0m  \u001b[93m84db953e-6e94-4224-a510-02dfdfe5dcea\u001b[0m  alpha_run_01.txt  Dr. Reed   \n",
       "\n",
       "  research_project_id date_conducted                 minio_object_path  \n",
       "\u001b[1;36m0\u001b[0m        ProjectAlpha     \u001b[1;36m2025\u001b[0m-\u001b[1;36m06\u001b[0m-\u001b[1;36m05\u001b[0m  ProjectAlpha/\u001b[1;35malpha_run_01\u001b[0m\u001b[1m(\u001b[0m\u001b[1;36m1\u001b[0m\u001b[1m)\u001b[0m.txt  \n",
       "\u001b[1;36m1\u001b[0m        ProjectAlpha     \u001b[1;36m2025\u001b[0m-\u001b[1;36m06\u001b[0m-\u001b[1;36m05\u001b[0m     ProjectAlpha/alpha_run_01.txt  \n"
      ]
     },
     "metadata": {},
     "output_type": "display_data"
    }
   ],
   "source": [
    "console = Console()\n",
    "def run_test(test_name, **kwargs):\n",
    "    \"\"\"A helper function to run a search test and print results.\"\"\"\n",
    "    print(\"\\n\" + \"=\"*50)\n",
    "    console.print(f\"[bold cyan]Running Test: {test_name}[/bold cyan]\")\n",
    "    console.print(f\"Search Criteria: {kwargs}\")\n",
    "    \n",
    "    try:\n",
    "        results_df = search_file(**kwargs)\n",
    "        \n",
    "        if results_df.empty:\n",
    "            console.print(\"[yellow]Search returned no results.[/yellow]\")\n",
    "        else:\n",
    "            console.print(\"Search Results:\")\n",
    "            console.print(results_df[['file_id', 'file_name', 'author', 'research_project_id', 'date_conducted', 'minio_object_path']])\n",
    "    except Exception as e:\n",
    "        console.print(f\"[white]An error occurred during the test: {e}[/white]\")\n",
    "    \n",
    "run_test(\n",
    "    \"Find files by Dr. Reed in ProjectAlpha\",\n",
    "    author=\"Reed\",\n",
    "    research_project_id=\"ProjectAlpha\"\n",
    ")\n",
    "\n",
    "\n"
   ]
  },
  {
   "cell_type": "code",
   "execution_count": 17,
   "id": "4b83d827",
   "metadata": {},
   "outputs": [
    {
     "name": "stderr",
     "output_type": "stream",
     "text": [
      "INFO: Template YAML created at: beta_photo.yaml\n"
     ]
    }
   ],
   "source": [
    "generate_metadata_template(\"beta_photo.yaml\", overwrite=True)\n",
    "\n"
   ]
  },
  {
   "cell_type": "code",
   "execution_count": null,
   "id": "245568d1",
   "metadata": {},
   "outputs": [
    {
     "ename": "TypeError",
     "evalue": "upload_file() missing 1 required positional argument: 'metadata_file_path'",
     "output_type": "error",
     "traceback": [
      "\u001b[31m---------------------------------------------------------------------------\u001b[39m",
      "\u001b[31mTypeError\u001b[39m                                 Traceback (most recent call last)",
      "\u001b[36mCell\u001b[39m\u001b[36m \u001b[39m\u001b[32mIn[19]\u001b[39m\u001b[32m, line 1\u001b[39m\n\u001b[32m----> \u001b[39m\u001b[32m1\u001b[39m \u001b[43mupload_file\u001b[49m\u001b[43m(\u001b[49m\u001b[33;43m\"\u001b[39;49m\u001b[33;43mbeta_photo.jpg\u001b[39;49m\u001b[33;43m\"\u001b[39;49m\u001b[43m)\u001b[49m\n",
      "\u001b[31mTypeError\u001b[39m: upload_file() missing 1 required positional argument: 'metadata_file_path'"
     ]
    }
   ],
   "source": [
    "upload_file(\"beta_photo.jpg\")"
   ]
  },
  {
   "cell_type": "code",
   "execution_count": 12,
   "id": "e5ce4d3b",
   "metadata": {},
   "outputs": [
    {
     "name": "stderr",
     "output_type": "stream",
     "text": [
      "INFO: Querying API at http://localhost:8001/search/ with parameters: {'research_project_id': 'photo_test', 'file_type': 'JPG'}\n",
      "WARNING: Column 'date_conducted' contains invalid dates that were converted to NaT.\n"
     ]
    },
    {
     "data": {
      "text/html": [
       "<div>\n",
       "<style scoped>\n",
       "    .dataframe tbody tr th:only-of-type {\n",
       "        vertical-align: middle;\n",
       "    }\n",
       "\n",
       "    .dataframe tbody tr th {\n",
       "        vertical-align: top;\n",
       "    }\n",
       "\n",
       "    .dataframe thead th {\n",
       "        text-align: right;\n",
       "    }\n",
       "</style>\n",
       "<table border=\"1\" class=\"dataframe\">\n",
       "  <thead>\n",
       "    <tr style=\"text-align: right;\">\n",
       "      <th></th>\n",
       "      <th>file_id</th>\n",
       "      <th>research_project_id</th>\n",
       "      <th>file_name</th>\n",
       "      <th>file_type</th>\n",
       "      <th>content_type</th>\n",
       "      <th>experiment_type</th>\n",
       "      <th>author</th>\n",
       "      <th>date_conducted</th>\n",
       "      <th>size_bytes</th>\n",
       "      <th>minio_bucket_name</th>\n",
       "      <th>minio_object_path</th>\n",
       "      <th>upload_timestamp</th>\n",
       "      <th>custom_tags</th>\n",
       "    </tr>\n",
       "  </thead>\n",
       "  <tbody>\n",
       "    <tr>\n",
       "      <th>0</th>\n",
       "      <td>f1c04ab4-f7d8-493f-96b2-ba33b0bf31dc</td>\n",
       "      <td>photo_test</td>\n",
       "      <td>beta_photo.jpg</td>\n",
       "      <td>JPG</td>\n",
       "      <td>application/octet-stream</td>\n",
       "      <td></td>\n",
       "      <td>willy</td>\n",
       "      <td>NaT</td>\n",
       "      <td>0</td>\n",
       "      <td>raw-data</td>\n",
       "      <td>photo_test/beta_photo.jpg</td>\n",
       "      <td>2025-06-11 15:01:06.392000+00:00</td>\n",
       "      <td></td>\n",
       "    </tr>\n",
       "  </tbody>\n",
       "</table>\n",
       "</div>"
      ],
      "text/plain": [
       "                                file_id research_project_id       file_name  \\\n",
       "0  f1c04ab4-f7d8-493f-96b2-ba33b0bf31dc          photo_test  beta_photo.jpg   \n",
       "\n",
       "  file_type              content_type experiment_type author date_conducted  \\\n",
       "0       JPG  application/octet-stream                  willy            NaT   \n",
       "\n",
       "   size_bytes minio_bucket_name          minio_object_path  \\\n",
       "0           0          raw-data  photo_test/beta_photo.jpg   \n",
       "\n",
       "                  upload_timestamp custom_tags  \n",
       "0 2025-06-11 15:01:06.392000+00:00              "
      ]
     },
     "execution_count": 12,
     "metadata": {},
     "output_type": "execute_result"
    }
   ],
   "source": [
    "search_file(research_project_id=\"photo_test\", file_type = \"JPG\")"
   ]
  },
  {
   "cell_type": "code",
   "execution_count": 32,
   "id": "8bacf4e6",
   "metadata": {},
   "outputs": [
    {
     "name": "stderr",
     "output_type": "stream",
     "text": [
      "INFO: Starting ingestion for data file: '/Users/wmorrill24/Desktop/022705_p41_frequency_sweep/data/05_27_2025_Data_Calibration_2.5/0527_1653_xz_scan.mat'\n",
      "INFO: Calling API at http://localhost:8001/uploadfile/...\n",
      "INFO: --- Ingestion Successful ---\n"
     ]
    },
    {
     "data": {
      "text/plain": [
       "{'message': \"File '0527_1653_xz_scan.mat' processed. Metadata stored successfully.\",\n",
       " 'db_file_id': '93a737f8-8d74-41c2-ba66-07d1c8fe3b9d',\n",
       " 'minio_bucket': 'raw-data',\n",
       " 'minio_object_name': 'Data_Calibration/0527_1653_xz_scan.mat',\n",
       " 'original_filename': '0527_1653_xz_scan.mat',\n",
       " 'etag_minio': '772fd627ae946ee7ff9c33501e7fe47e-7',\n",
       " 'metadata_db_status': 'success',\n",
       " 'metadata_db_message': 'Metadata stored successfully.',\n",
       " 'db_details': {'original_file_name': '0527_1653_xz_scan.mat',\n",
       "  'minio_object_path': 'Data_Calibration/0527_1653_xz_scan.mat',\n",
       "  'research_project_id': 'Data Calibration'}}"
      ]
     },
     "execution_count": 32,
     "metadata": {},
     "output_type": "execute_result"
    }
   ],
   "source": [
    "\n",
    "data_path = ('/Users/wmorrill24/Desktop/022705_p41_frequency_sweep/data/05_27_2025_Data_Calibration_2.5/0527_1653_xz_scan.mat')\n",
    "upload_file(data_path, \"0527_1653_xz_scan.yaml\")"
   ]
  },
  {
   "cell_type": "code",
   "execution_count": 33,
   "id": "210747e2",
   "metadata": {},
   "outputs": [
    {
     "name": "stderr",
     "output_type": "stream",
     "text": [
      "INFO: Querying API at http://localhost:8001/search/ with parameters: {}\n",
      "WARNING: Column 'date_conducted' contains invalid dates that were converted to NaT.\n"
     ]
    },
    {
     "data": {
      "text/html": [
       "<div>\n",
       "<style scoped>\n",
       "    .dataframe tbody tr th:only-of-type {\n",
       "        vertical-align: middle;\n",
       "    }\n",
       "\n",
       "    .dataframe tbody tr th {\n",
       "        vertical-align: top;\n",
       "    }\n",
       "\n",
       "    .dataframe thead th {\n",
       "        text-align: right;\n",
       "    }\n",
       "</style>\n",
       "<table border=\"1\" class=\"dataframe\">\n",
       "  <thead>\n",
       "    <tr style=\"text-align: right;\">\n",
       "      <th></th>\n",
       "      <th>file_id</th>\n",
       "      <th>research_project_id</th>\n",
       "      <th>file_name</th>\n",
       "      <th>file_type</th>\n",
       "      <th>content_type</th>\n",
       "      <th>experiment_type</th>\n",
       "      <th>author</th>\n",
       "      <th>date_conducted</th>\n",
       "      <th>size_bytes</th>\n",
       "      <th>minio_bucket_name</th>\n",
       "      <th>minio_object_path</th>\n",
       "      <th>upload_timestamp</th>\n",
       "      <th>custom_tags</th>\n",
       "    </tr>\n",
       "  </thead>\n",
       "  <tbody>\n",
       "    <tr>\n",
       "      <th>0</th>\n",
       "      <td>93a737f8-8d74-41c2-ba66-07d1c8fe3b9d</td>\n",
       "      <td>Data Calibration</td>\n",
       "      <td>0527_1653_xz_scan.mat</td>\n",
       "      <td>MAT</td>\n",
       "      <td>application/octet-stream</td>\n",
       "      <td></td>\n",
       "      <td>wkm</td>\n",
       "      <td>NaT</td>\n",
       "      <td>66655002</td>\n",
       "      <td>raw-data</td>\n",
       "      <td>Data_Calibration/0527_1653_xz_scan.mat</td>\n",
       "      <td>2025-06-11 15:40:53.766000+00:00</td>\n",
       "      <td></td>\n",
       "    </tr>\n",
       "    <tr>\n",
       "      <th>1</th>\n",
       "      <td>f1c04ab4-f7d8-493f-96b2-ba33b0bf31dc</td>\n",
       "      <td>photo_test</td>\n",
       "      <td>beta_photo.jpg</td>\n",
       "      <td>JPG</td>\n",
       "      <td>application/octet-stream</td>\n",
       "      <td></td>\n",
       "      <td>willy</td>\n",
       "      <td>NaT</td>\n",
       "      <td>0</td>\n",
       "      <td>raw-data</td>\n",
       "      <td>photo_test/beta_photo.jpg</td>\n",
       "      <td>2025-06-11 15:01:06.392000+00:00</td>\n",
       "      <td></td>\n",
       "    </tr>\n",
       "    <tr>\n",
       "      <th>2</th>\n",
       "      <td>c19d4aa9-643a-4cfb-9e5c-1d8b9f9096c9</td>\n",
       "      <td>will</td>\n",
       "      <td>my_cool_experiment.mat</td>\n",
       "      <td>MAT</td>\n",
       "      <td>application/octet-stream</td>\n",
       "      <td></td>\n",
       "      <td>will</td>\n",
       "      <td>NaT</td>\n",
       "      <td>20</td>\n",
       "      <td>raw-data</td>\n",
       "      <td>will/my_cool_experiment(13).mat</td>\n",
       "      <td>2025-06-11 14:51:13.325000+00:00</td>\n",
       "      <td></td>\n",
       "    </tr>\n",
       "    <tr>\n",
       "      <th>3</th>\n",
       "      <td>3c912342-6924-4a1a-97c5-46d68b228c61</td>\n",
       "      <td>will</td>\n",
       "      <td>my_cool_experiment.mat</td>\n",
       "      <td>MAT</td>\n",
       "      <td>application/octet-stream</td>\n",
       "      <td></td>\n",
       "      <td>will</td>\n",
       "      <td>NaT</td>\n",
       "      <td>20</td>\n",
       "      <td>raw-data</td>\n",
       "      <td>will/my_cool_experiment(12).mat</td>\n",
       "      <td>2025-06-11 14:48:41.351000+00:00</td>\n",
       "      <td></td>\n",
       "    </tr>\n",
       "    <tr>\n",
       "      <th>4</th>\n",
       "      <td>7f5dbd43-9d70-4e8c-b3b3-edf70a242fb3</td>\n",
       "      <td>will</td>\n",
       "      <td>my_cool_experiment.mat</td>\n",
       "      <td>MAT</td>\n",
       "      <td>application/octet-stream</td>\n",
       "      <td></td>\n",
       "      <td>will</td>\n",
       "      <td>NaT</td>\n",
       "      <td>20</td>\n",
       "      <td>raw-data</td>\n",
       "      <td>will/my_cool_experiment(11).mat</td>\n",
       "      <td>2025-06-11 14:21:47.183000+00:00</td>\n",
       "      <td></td>\n",
       "    </tr>\n",
       "    <tr>\n",
       "      <th>5</th>\n",
       "      <td>a9ba576e-35fc-4c8b-98db-fecb7b258c0c</td>\n",
       "      <td>will/</td>\n",
       "      <td>my_cool_experiment.mat</td>\n",
       "      <td>MAT</td>\n",
       "      <td>application/octet-stream</td>\n",
       "      <td></td>\n",
       "      <td>will</td>\n",
       "      <td>NaT</td>\n",
       "      <td>20</td>\n",
       "      <td>raw-data</td>\n",
       "      <td>will/my_cool_experiment(10).mat</td>\n",
       "      <td>2025-06-11 14:15:49.004000+00:00</td>\n",
       "      <td></td>\n",
       "    </tr>\n",
       "    <tr>\n",
       "      <th>6</th>\n",
       "      <td>f919e79a-4e00-44e1-82e2-a0a3bcae8757</td>\n",
       "      <td>client_test/</td>\n",
       "      <td>my_cool_experiment.mat</td>\n",
       "      <td>MAT</td>\n",
       "      <td>application/octet-stream</td>\n",
       "      <td>testing_is_fun</td>\n",
       "      <td>will</td>\n",
       "      <td>2025-06-10</td>\n",
       "      <td>20</td>\n",
       "      <td>raw-data</td>\n",
       "      <td>client_test/my_cool_experiment.mat</td>\n",
       "      <td>2025-06-10 19:30:41.008000+00:00</td>\n",
       "      <td>lebron is the goat</td>\n",
       "    </tr>\n",
       "    <tr>\n",
       "      <th>7</th>\n",
       "      <td>f4843a16-365f-4582-b5c9-5c4cdb5cc350</td>\n",
       "      <td>etc/</td>\n",
       "      <td>data_for_empty_yaml.txt</td>\n",
       "      <td>TXT</td>\n",
       "      <td>text/plain</td>\n",
       "      <td>None</td>\n",
       "      <td>Security Tester</td>\n",
       "      <td>NaT</td>\n",
       "      <td>25</td>\n",
       "      <td>raw-data</td>\n",
       "      <td>etc/data_for_empty_yaml(1).txt</td>\n",
       "      <td>2025-06-10 17:51:43.649000+00:00</td>\n",
       "      <td>None</td>\n",
       "    </tr>\n",
       "    <tr>\n",
       "      <th>8</th>\n",
       "      <td>72ab61e6-79a3-4982-b3e6-b14df2b91bb3</td>\n",
       "      <td>../../../etc</td>\n",
       "      <td>data_for_empty_yaml.txt</td>\n",
       "      <td>TXT</td>\n",
       "      <td>text/plain</td>\n",
       "      <td>None</td>\n",
       "      <td>Security Tester</td>\n",
       "      <td>NaT</td>\n",
       "      <td>25</td>\n",
       "      <td>raw-data</td>\n",
       "      <td>etc/data_for_empty_yaml.txt</td>\n",
       "      <td>2025-06-10 17:48:52.443000+00:00</td>\n",
       "      <td>None</td>\n",
       "    </tr>\n",
       "    <tr>\n",
       "      <th>9</th>\n",
       "      <td>b8080cc6-2a3d-4223-af9c-918628cc8000</td>\n",
       "      <td>ProjetÉtudePhénix</td>\n",
       "      <td>data_for_empty_yaml.txt</td>\n",
       "      <td>TXT</td>\n",
       "      <td>text/plain</td>\n",
       "      <td>None</td>\n",
       "      <td>Dr. Müller</td>\n",
       "      <td>NaT</td>\n",
       "      <td>25</td>\n",
       "      <td>raw-data</td>\n",
       "      <td>ProjetÉtudePhénix/data_for_empty_yaml.txt</td>\n",
       "      <td>2025-06-10 17:45:45.499000+00:00</td>\n",
       "      <td>résumé, données</td>\n",
       "    </tr>\n",
       "    <tr>\n",
       "      <th>10</th>\n",
       "      <td>6e045cce-4260-4493-96d6-778872994ef2</td>\n",
       "      <td>ProjectPartial</td>\n",
       "      <td>data_for_empty_yaml.txt</td>\n",
       "      <td>TXT</td>\n",
       "      <td>text/plain</td>\n",
       "      <td>Partial Test</td>\n",
       "      <td>None</td>\n",
       "      <td>2025-06-10</td>\n",
       "      <td>25</td>\n",
       "      <td>raw-data</td>\n",
       "      <td>ProjectPartial/data_for_empty_yaml.txt</td>\n",
       "      <td>2025-06-10 17:43:34.577000+00:00</td>\n",
       "      <td>None</td>\n",
       "    </tr>\n",
       "    <tr>\n",
       "      <th>11</th>\n",
       "      <td>f026b38b-04a1-47cd-a8de-4fa5c3a9c1ec</td>\n",
       "      <td>ProjectAlpha</td>\n",
       "      <td>alpha_run_01.txt</td>\n",
       "      <td>TXT</td>\n",
       "      <td>text/plain</td>\n",
       "      <td>Baseline</td>\n",
       "      <td>Dr. Reed</td>\n",
       "      <td>2025-06-05</td>\n",
       "      <td>35</td>\n",
       "      <td>raw-data</td>\n",
       "      <td>ProjectAlpha/alpha_run_01(1).txt</td>\n",
       "      <td>2025-06-10 17:33:41.043000+00:00</td>\n",
       "      <td>baseline, alpha, raw_data</td>\n",
       "    </tr>\n",
       "    <tr>\n",
       "      <th>12</th>\n",
       "      <td>84db953e-6e94-4224-a510-02dfdfe5dcea</td>\n",
       "      <td>ProjectAlpha</td>\n",
       "      <td>alpha_run_01.txt</td>\n",
       "      <td>TXT</td>\n",
       "      <td>text/plain</td>\n",
       "      <td>Baseline</td>\n",
       "      <td>Dr. Reed</td>\n",
       "      <td>2025-06-05</td>\n",
       "      <td>35</td>\n",
       "      <td>raw-data</td>\n",
       "      <td>ProjectAlpha/alpha_run_01.txt</td>\n",
       "      <td>2025-06-10 17:28:07.449000+00:00</td>\n",
       "      <td>baseline, alpha, raw_data</td>\n",
       "    </tr>\n",
       "  </tbody>\n",
       "</table>\n",
       "</div>"
      ],
      "text/plain": [
       "                                 file_id research_project_id  \\\n",
       "0   93a737f8-8d74-41c2-ba66-07d1c8fe3b9d    Data Calibration   \n",
       "1   f1c04ab4-f7d8-493f-96b2-ba33b0bf31dc          photo_test   \n",
       "2   c19d4aa9-643a-4cfb-9e5c-1d8b9f9096c9                will   \n",
       "3   3c912342-6924-4a1a-97c5-46d68b228c61                will   \n",
       "4   7f5dbd43-9d70-4e8c-b3b3-edf70a242fb3                will   \n",
       "5   a9ba576e-35fc-4c8b-98db-fecb7b258c0c               will/   \n",
       "6   f919e79a-4e00-44e1-82e2-a0a3bcae8757        client_test/   \n",
       "7   f4843a16-365f-4582-b5c9-5c4cdb5cc350                etc/   \n",
       "8   72ab61e6-79a3-4982-b3e6-b14df2b91bb3        ../../../etc   \n",
       "9   b8080cc6-2a3d-4223-af9c-918628cc8000   ProjetÉtudePhénix   \n",
       "10  6e045cce-4260-4493-96d6-778872994ef2      ProjectPartial   \n",
       "11  f026b38b-04a1-47cd-a8de-4fa5c3a9c1ec        ProjectAlpha   \n",
       "12  84db953e-6e94-4224-a510-02dfdfe5dcea        ProjectAlpha   \n",
       "\n",
       "                  file_name file_type              content_type  \\\n",
       "0     0527_1653_xz_scan.mat       MAT  application/octet-stream   \n",
       "1            beta_photo.jpg       JPG  application/octet-stream   \n",
       "2    my_cool_experiment.mat       MAT  application/octet-stream   \n",
       "3    my_cool_experiment.mat       MAT  application/octet-stream   \n",
       "4    my_cool_experiment.mat       MAT  application/octet-stream   \n",
       "5    my_cool_experiment.mat       MAT  application/octet-stream   \n",
       "6    my_cool_experiment.mat       MAT  application/octet-stream   \n",
       "7   data_for_empty_yaml.txt       TXT                text/plain   \n",
       "8   data_for_empty_yaml.txt       TXT                text/plain   \n",
       "9   data_for_empty_yaml.txt       TXT                text/plain   \n",
       "10  data_for_empty_yaml.txt       TXT                text/plain   \n",
       "11         alpha_run_01.txt       TXT                text/plain   \n",
       "12         alpha_run_01.txt       TXT                text/plain   \n",
       "\n",
       "   experiment_type           author date_conducted  size_bytes  \\\n",
       "0                               wkm            NaT    66655002   \n",
       "1                             willy            NaT           0   \n",
       "2                              will            NaT          20   \n",
       "3                              will            NaT          20   \n",
       "4                              will            NaT          20   \n",
       "5                              will            NaT          20   \n",
       "6   testing_is_fun             will     2025-06-10          20   \n",
       "7             None  Security Tester            NaT          25   \n",
       "8             None  Security Tester            NaT          25   \n",
       "9             None       Dr. Müller            NaT          25   \n",
       "10    Partial Test             None     2025-06-10          25   \n",
       "11        Baseline         Dr. Reed     2025-06-05          35   \n",
       "12        Baseline         Dr. Reed     2025-06-05          35   \n",
       "\n",
       "   minio_bucket_name                          minio_object_path  \\\n",
       "0           raw-data     Data_Calibration/0527_1653_xz_scan.mat   \n",
       "1           raw-data                  photo_test/beta_photo.jpg   \n",
       "2           raw-data            will/my_cool_experiment(13).mat   \n",
       "3           raw-data            will/my_cool_experiment(12).mat   \n",
       "4           raw-data            will/my_cool_experiment(11).mat   \n",
       "5           raw-data            will/my_cool_experiment(10).mat   \n",
       "6           raw-data         client_test/my_cool_experiment.mat   \n",
       "7           raw-data             etc/data_for_empty_yaml(1).txt   \n",
       "8           raw-data                etc/data_for_empty_yaml.txt   \n",
       "9           raw-data  ProjetÉtudePhénix/data_for_empty_yaml.txt   \n",
       "10          raw-data     ProjectPartial/data_for_empty_yaml.txt   \n",
       "11          raw-data           ProjectAlpha/alpha_run_01(1).txt   \n",
       "12          raw-data              ProjectAlpha/alpha_run_01.txt   \n",
       "\n",
       "                   upload_timestamp                custom_tags  \n",
       "0  2025-06-11 15:40:53.766000+00:00                             \n",
       "1  2025-06-11 15:01:06.392000+00:00                             \n",
       "2  2025-06-11 14:51:13.325000+00:00                             \n",
       "3  2025-06-11 14:48:41.351000+00:00                             \n",
       "4  2025-06-11 14:21:47.183000+00:00                             \n",
       "5  2025-06-11 14:15:49.004000+00:00                             \n",
       "6  2025-06-10 19:30:41.008000+00:00         lebron is the goat  \n",
       "7  2025-06-10 17:51:43.649000+00:00                       None  \n",
       "8  2025-06-10 17:48:52.443000+00:00                       None  \n",
       "9  2025-06-10 17:45:45.499000+00:00            résumé, données  \n",
       "10 2025-06-10 17:43:34.577000+00:00                       None  \n",
       "11 2025-06-10 17:33:41.043000+00:00  baseline, alpha, raw_data  \n",
       "12 2025-06-10 17:28:07.449000+00:00  baseline, alpha, raw_data  "
      ]
     },
     "execution_count": 33,
     "metadata": {},
     "output_type": "execute_result"
    }
   ],
   "source": [
    "search_file()"
   ]
  },
  {
   "cell_type": "code",
   "execution_count": 5,
   "id": "968872a8",
   "metadata": {},
   "outputs": [
    {
     "ename": "TypeError",
     "evalue": "download_file() missing 1 required positional argument: 'file_id'",
     "output_type": "error",
     "traceback": [
      "\u001b[31m---------------------------------------------------------------------------\u001b[39m",
      "\u001b[31mTypeError\u001b[39m                                 Traceback (most recent call last)",
      "\u001b[36mCell\u001b[39m\u001b[36m \u001b[39m\u001b[32mIn[5]\u001b[39m\u001b[32m, line 1\u001b[39m\n\u001b[32m----> \u001b[39m\u001b[32m1\u001b[39m \u001b[43mdownload_file\u001b[49m\u001b[43m(\u001b[49m\u001b[43m)\u001b[49m\n",
      "\u001b[31mTypeError\u001b[39m: download_file() missing 1 required positional argument: 'file_id'"
     ]
    }
   ],
   "source": [
    "download_file()"
   ]
  }
 ],
 "metadata": {
  "kernelspec": {
   "display_name": "venv",
   "language": "python",
   "name": "python3"
  },
  "language_info": {
   "codemirror_mode": {
    "name": "ipython",
    "version": 3
   },
   "file_extension": ".py",
   "mimetype": "text/x-python",
   "name": "python",
   "nbconvert_exporter": "python",
   "pygments_lexer": "ipython3",
   "version": "3.13.4"
  }
 },
 "nbformat": 4,
 "nbformat_minor": 5
}
