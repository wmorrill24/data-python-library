{
 "cells": [
  {
   "cell_type": "code",
   "execution_count": 2,
   "id": "ebd4a73b",
   "metadata": {},
   "outputs": [
    {
     "name": "stderr",
     "output_type": "stream",
     "text": [
      "WARNING: File 'my_cool_experiment.yaml' already exists. Use overwrite=True to replace it.\n",
      "INFO: Starting ingestion for data file: 'my_cool_experiment.mat'\n",
      "INFO: Calling API at http://localhost:8001/uploadfile/...\n",
      "INFO: --- Ingestion Successful ---\n",
      "INFO: Querying API at http://localhost:8001/search/ with parameters: {'author': 'will'}\n",
      "WARNING: Column 'date_conducted' contains invalid dates that were converted to NaT.\n"
     ]
    },
    {
     "data": {
      "text/html": [
       "<div>\n",
       "<style scoped>\n",
       "    .dataframe tbody tr th:only-of-type {\n",
       "        vertical-align: middle;\n",
       "    }\n",
       "\n",
       "    .dataframe tbody tr th {\n",
       "        vertical-align: top;\n",
       "    }\n",
       "\n",
       "    .dataframe thead th {\n",
       "        text-align: right;\n",
       "    }\n",
       "</style>\n",
       "<table border=\"1\" class=\"dataframe\">\n",
       "  <thead>\n",
       "    <tr style=\"text-align: right;\">\n",
       "      <th></th>\n",
       "      <th>file_id</th>\n",
       "      <th>research_project_id</th>\n",
       "      <th>file_name</th>\n",
       "      <th>file_type</th>\n",
       "      <th>content_type</th>\n",
       "      <th>experiment_type</th>\n",
       "      <th>author</th>\n",
       "      <th>date_conducted</th>\n",
       "      <th>size_bytes</th>\n",
       "      <th>minio_bucket_name</th>\n",
       "      <th>minio_object_path</th>\n",
       "      <th>upload_timestamp</th>\n",
       "      <th>custom_tags</th>\n",
       "    </tr>\n",
       "  </thead>\n",
       "  <tbody>\n",
       "    <tr>\n",
       "      <th>0</th>\n",
       "      <td>5b1704b9-50ab-4d76-a541-d3290403a81f</td>\n",
       "      <td>will/</td>\n",
       "      <td>my_cool_experiment.mat</td>\n",
       "      <td>MAT</td>\n",
       "      <td>application/octet-stream</td>\n",
       "      <td></td>\n",
       "      <td>will</td>\n",
       "      <td>NaT</td>\n",
       "      <td>20</td>\n",
       "      <td>raw-data</td>\n",
       "      <td>will/my_cool_experiment(9).mat</td>\n",
       "      <td>2025-06-10 21:10:15.760000+00:00</td>\n",
       "      <td></td>\n",
       "    </tr>\n",
       "    <tr>\n",
       "      <th>1</th>\n",
       "      <td>2cabdb87-1843-49a4-b6a6-227f7bafc66f</td>\n",
       "      <td>will/</td>\n",
       "      <td>my_cool_experiment.mat</td>\n",
       "      <td>MAT</td>\n",
       "      <td>application/octet-stream</td>\n",
       "      <td></td>\n",
       "      <td>will</td>\n",
       "      <td>NaT</td>\n",
       "      <td>20</td>\n",
       "      <td>raw-data</td>\n",
       "      <td>will/my_cool_experiment(8).mat</td>\n",
       "      <td>2025-06-10 20:59:23.560000+00:00</td>\n",
       "      <td></td>\n",
       "    </tr>\n",
       "    <tr>\n",
       "      <th>2</th>\n",
       "      <td>80d88d6d-18e3-4b4e-a7a2-102270074144</td>\n",
       "      <td>will/</td>\n",
       "      <td>my_cool_experiment.mat</td>\n",
       "      <td>MAT</td>\n",
       "      <td>application/octet-stream</td>\n",
       "      <td></td>\n",
       "      <td>will</td>\n",
       "      <td>NaT</td>\n",
       "      <td>20</td>\n",
       "      <td>raw-data</td>\n",
       "      <td>will/my_cool_experiment(7).mat</td>\n",
       "      <td>2025-06-10 20:54:58.441000+00:00</td>\n",
       "      <td></td>\n",
       "    </tr>\n",
       "    <tr>\n",
       "      <th>3</th>\n",
       "      <td>ce10f92b-575f-4f07-9805-e98a0b361025</td>\n",
       "      <td>will/</td>\n",
       "      <td>my_cool_experiment.mat</td>\n",
       "      <td>MAT</td>\n",
       "      <td>application/octet-stream</td>\n",
       "      <td></td>\n",
       "      <td>will</td>\n",
       "      <td>NaT</td>\n",
       "      <td>20</td>\n",
       "      <td>raw-data</td>\n",
       "      <td>will/my_cool_experiment(6).mat</td>\n",
       "      <td>2025-06-10 20:54:04.871000+00:00</td>\n",
       "      <td></td>\n",
       "    </tr>\n",
       "    <tr>\n",
       "      <th>4</th>\n",
       "      <td>43f84944-97b8-4cc1-bb9a-490c1d9a852f</td>\n",
       "      <td>will/</td>\n",
       "      <td>my_cool_experiment.mat</td>\n",
       "      <td>MAT</td>\n",
       "      <td>application/octet-stream</td>\n",
       "      <td></td>\n",
       "      <td>will</td>\n",
       "      <td>NaT</td>\n",
       "      <td>20</td>\n",
       "      <td>raw-data</td>\n",
       "      <td>will/my_cool_experiment(5).mat</td>\n",
       "      <td>2025-06-10 20:53:53.744000+00:00</td>\n",
       "      <td></td>\n",
       "    </tr>\n",
       "    <tr>\n",
       "      <th>5</th>\n",
       "      <td>2e147952-dcff-4a87-9b4b-a81adef8e243</td>\n",
       "      <td>will/</td>\n",
       "      <td>my_cool_experiment.mat</td>\n",
       "      <td>MAT</td>\n",
       "      <td>application/octet-stream</td>\n",
       "      <td></td>\n",
       "      <td>will</td>\n",
       "      <td>NaT</td>\n",
       "      <td>20</td>\n",
       "      <td>raw-data</td>\n",
       "      <td>will/my_cool_experiment(4).mat</td>\n",
       "      <td>2025-06-10 20:53:46.539000+00:00</td>\n",
       "      <td></td>\n",
       "    </tr>\n",
       "    <tr>\n",
       "      <th>6</th>\n",
       "      <td>924ddefd-9d65-4060-81e7-33ea5f88214c</td>\n",
       "      <td>will/</td>\n",
       "      <td>my_cool_experiment.mat</td>\n",
       "      <td>MAT</td>\n",
       "      <td>application/octet-stream</td>\n",
       "      <td></td>\n",
       "      <td>will</td>\n",
       "      <td>NaT</td>\n",
       "      <td>20</td>\n",
       "      <td>raw-data</td>\n",
       "      <td>will/my_cool_experiment(3).mat</td>\n",
       "      <td>2025-06-10 20:53:13.595000+00:00</td>\n",
       "      <td></td>\n",
       "    </tr>\n",
       "    <tr>\n",
       "      <th>7</th>\n",
       "      <td>e0d5405c-22c0-4743-919a-ba4d55644e93</td>\n",
       "      <td>will/</td>\n",
       "      <td>my_cool_experiment.mat</td>\n",
       "      <td>MAT</td>\n",
       "      <td>application/octet-stream</td>\n",
       "      <td></td>\n",
       "      <td>will</td>\n",
       "      <td>NaT</td>\n",
       "      <td>20</td>\n",
       "      <td>raw-data</td>\n",
       "      <td>will/my_cool_experiment(2).mat</td>\n",
       "      <td>2025-06-10 20:49:26.485000+00:00</td>\n",
       "      <td></td>\n",
       "    </tr>\n",
       "    <tr>\n",
       "      <th>8</th>\n",
       "      <td>fa7e6922-3c3b-4b1d-8a07-9708a6125337</td>\n",
       "      <td>will/</td>\n",
       "      <td>my_cool_experiment.mat</td>\n",
       "      <td>MAT</td>\n",
       "      <td>application/octet-stream</td>\n",
       "      <td></td>\n",
       "      <td>will</td>\n",
       "      <td>NaT</td>\n",
       "      <td>20</td>\n",
       "      <td>raw-data</td>\n",
       "      <td>will/my_cool_experiment(1).mat</td>\n",
       "      <td>2025-06-10 20:47:16.937000+00:00</td>\n",
       "      <td></td>\n",
       "    </tr>\n",
       "    <tr>\n",
       "      <th>9</th>\n",
       "      <td>b8b7f465-3e41-4abd-981e-efe750ae6f01</td>\n",
       "      <td>will/</td>\n",
       "      <td>my_cool_experiment.mat</td>\n",
       "      <td>MAT</td>\n",
       "      <td>application/octet-stream</td>\n",
       "      <td></td>\n",
       "      <td>will</td>\n",
       "      <td>NaT</td>\n",
       "      <td>20</td>\n",
       "      <td>raw-data</td>\n",
       "      <td>will/my_cool_experiment.mat</td>\n",
       "      <td>2025-06-10 20:44:44.032000+00:00</td>\n",
       "      <td></td>\n",
       "    </tr>\n",
       "    <tr>\n",
       "      <th>10</th>\n",
       "      <td>f919e79a-4e00-44e1-82e2-a0a3bcae8757</td>\n",
       "      <td>client_test/</td>\n",
       "      <td>my_cool_experiment.mat</td>\n",
       "      <td>MAT</td>\n",
       "      <td>application/octet-stream</td>\n",
       "      <td>testing_is_fun</td>\n",
       "      <td>will</td>\n",
       "      <td>2025-06-10</td>\n",
       "      <td>20</td>\n",
       "      <td>raw-data</td>\n",
       "      <td>client_test/my_cool_experiment.mat</td>\n",
       "      <td>2025-06-10 19:30:41.008000+00:00</td>\n",
       "      <td>lebron is the goat</td>\n",
       "    </tr>\n",
       "  </tbody>\n",
       "</table>\n",
       "</div>"
      ],
      "text/plain": [
       "                                 file_id research_project_id  \\\n",
       "0   5b1704b9-50ab-4d76-a541-d3290403a81f               will/   \n",
       "1   2cabdb87-1843-49a4-b6a6-227f7bafc66f               will/   \n",
       "2   80d88d6d-18e3-4b4e-a7a2-102270074144               will/   \n",
       "3   ce10f92b-575f-4f07-9805-e98a0b361025               will/   \n",
       "4   43f84944-97b8-4cc1-bb9a-490c1d9a852f               will/   \n",
       "5   2e147952-dcff-4a87-9b4b-a81adef8e243               will/   \n",
       "6   924ddefd-9d65-4060-81e7-33ea5f88214c               will/   \n",
       "7   e0d5405c-22c0-4743-919a-ba4d55644e93               will/   \n",
       "8   fa7e6922-3c3b-4b1d-8a07-9708a6125337               will/   \n",
       "9   b8b7f465-3e41-4abd-981e-efe750ae6f01               will/   \n",
       "10  f919e79a-4e00-44e1-82e2-a0a3bcae8757        client_test/   \n",
       "\n",
       "                 file_name file_type              content_type  \\\n",
       "0   my_cool_experiment.mat       MAT  application/octet-stream   \n",
       "1   my_cool_experiment.mat       MAT  application/octet-stream   \n",
       "2   my_cool_experiment.mat       MAT  application/octet-stream   \n",
       "3   my_cool_experiment.mat       MAT  application/octet-stream   \n",
       "4   my_cool_experiment.mat       MAT  application/octet-stream   \n",
       "5   my_cool_experiment.mat       MAT  application/octet-stream   \n",
       "6   my_cool_experiment.mat       MAT  application/octet-stream   \n",
       "7   my_cool_experiment.mat       MAT  application/octet-stream   \n",
       "8   my_cool_experiment.mat       MAT  application/octet-stream   \n",
       "9   my_cool_experiment.mat       MAT  application/octet-stream   \n",
       "10  my_cool_experiment.mat       MAT  application/octet-stream   \n",
       "\n",
       "   experiment_type author date_conducted  size_bytes minio_bucket_name  \\\n",
       "0                    will            NaT          20          raw-data   \n",
       "1                    will            NaT          20          raw-data   \n",
       "2                    will            NaT          20          raw-data   \n",
       "3                    will            NaT          20          raw-data   \n",
       "4                    will            NaT          20          raw-data   \n",
       "5                    will            NaT          20          raw-data   \n",
       "6                    will            NaT          20          raw-data   \n",
       "7                    will            NaT          20          raw-data   \n",
       "8                    will            NaT          20          raw-data   \n",
       "9                    will            NaT          20          raw-data   \n",
       "10  testing_is_fun   will     2025-06-10          20          raw-data   \n",
       "\n",
       "                     minio_object_path                 upload_timestamp  \\\n",
       "0       will/my_cool_experiment(9).mat 2025-06-10 21:10:15.760000+00:00   \n",
       "1       will/my_cool_experiment(8).mat 2025-06-10 20:59:23.560000+00:00   \n",
       "2       will/my_cool_experiment(7).mat 2025-06-10 20:54:58.441000+00:00   \n",
       "3       will/my_cool_experiment(6).mat 2025-06-10 20:54:04.871000+00:00   \n",
       "4       will/my_cool_experiment(5).mat 2025-06-10 20:53:53.744000+00:00   \n",
       "5       will/my_cool_experiment(4).mat 2025-06-10 20:53:46.539000+00:00   \n",
       "6       will/my_cool_experiment(3).mat 2025-06-10 20:53:13.595000+00:00   \n",
       "7       will/my_cool_experiment(2).mat 2025-06-10 20:49:26.485000+00:00   \n",
       "8       will/my_cool_experiment(1).mat 2025-06-10 20:47:16.937000+00:00   \n",
       "9          will/my_cool_experiment.mat 2025-06-10 20:44:44.032000+00:00   \n",
       "10  client_test/my_cool_experiment.mat 2025-06-10 19:30:41.008000+00:00   \n",
       "\n",
       "           custom_tags  \n",
       "0                       \n",
       "1                       \n",
       "2                       \n",
       "3                       \n",
       "4                       \n",
       "5                       \n",
       "6                       \n",
       "7                       \n",
       "8                       \n",
       "9                       \n",
       "10  lebron is the goat  "
      ]
     },
     "execution_count": 2,
     "metadata": {},
     "output_type": "execute_result"
    }
   ],
   "source": [
    "from data_ingestion import upload_file, search_file, generate_metadata_template\n",
    "from rich.console import Console\n",
    "generate_metadata_template(\"my_cool_experiment.yaml\")\n",
    "\n",
    "upload_file(\"my_cool_experiment.mat\", \"my_cool_experiment.yaml\")\n",
    "\n",
    "search_file(author = \"will\")\n"
   ]
  },
  {
   "cell_type": "code",
   "execution_count": 6,
   "id": "8ea32a58",
   "metadata": {},
   "outputs": [
    {
     "name": "stdout",
     "output_type": "stream",
     "text": [
      "\n",
      "==================================================\n"
     ]
    },
    {
     "data": {
      "text/html": [
       "<pre style=\"white-space:pre;overflow-x:auto;line-height:normal;font-family:Menlo,'DejaVu Sans Mono',consolas,'Courier New',monospace\"><span style=\"color: #008080; text-decoration-color: #008080; font-weight: bold\">Running Test: Find files by Dr. Reed in ProjectAlpha</span>\n",
       "</pre>\n"
      ],
      "text/plain": [
       "\u001b[1;36mRunning Test: Find files by Dr. Reed in ProjectAlpha\u001b[0m\n"
      ]
     },
     "metadata": {},
     "output_type": "display_data"
    },
    {
     "data": {
      "text/html": [
       "<pre style=\"white-space:pre;overflow-x:auto;line-height:normal;font-family:Menlo,'DejaVu Sans Mono',consolas,'Courier New',monospace\">Search Criteria: <span style=\"font-weight: bold\">{</span><span style=\"color: #008000; text-decoration-color: #008000\">'author'</span>: <span style=\"color: #008000; text-decoration-color: #008000\">'Reed'</span>, <span style=\"color: #008000; text-decoration-color: #008000\">'research_project_id'</span>: <span style=\"color: #008000; text-decoration-color: #008000\">'ProjectAlpha'</span><span style=\"font-weight: bold\">}</span>\n",
       "</pre>\n"
      ],
      "text/plain": [
       "Search Criteria: \u001b[1m{\u001b[0m\u001b[32m'author'\u001b[0m: \u001b[32m'Reed'\u001b[0m, \u001b[32m'research_project_id'\u001b[0m: \u001b[32m'ProjectAlpha'\u001b[0m\u001b[1m}\u001b[0m\n"
      ]
     },
     "metadata": {},
     "output_type": "display_data"
    },
    {
     "name": "stderr",
     "output_type": "stream",
     "text": [
      "INFO: Querying API at http://localhost:8001/search/ with parameters: {'research_project_id': 'ProjectAlpha', 'author': 'Reed'}\n"
     ]
    },
    {
     "data": {
      "text/html": [
       "<pre style=\"white-space:pre;overflow-x:auto;line-height:normal;font-family:Menlo,'DejaVu Sans Mono',consolas,'Courier New',monospace\">Search Results:\n",
       "</pre>\n"
      ],
      "text/plain": [
       "Search Results:\n"
      ]
     },
     "metadata": {},
     "output_type": "display_data"
    },
    {
     "data": {
      "text/html": [
       "<pre style=\"white-space:pre;overflow-x:auto;line-height:normal;font-family:Menlo,'DejaVu Sans Mono',consolas,'Courier New',monospace\"><span style=\"color: #c0c0c0; text-decoration-color: #c0c0c0\">An error occurred during the test: </span><span style=\"color: #c0c0c0; text-decoration-color: #c0c0c0\">\"['original_file_name'] not in index\"</span>\n",
       "</pre>\n"
      ],
      "text/plain": [
       "\u001b[37mAn error occurred during the test: \u001b[0m\u001b[37m\"\u001b[0m\u001b[37m[\u001b[0m\u001b[37m'original_file_name'\u001b[0m\u001b[37m]\u001b[0m\u001b[37m not in index\"\u001b[0m\n"
      ]
     },
     "metadata": {},
     "output_type": "display_data"
    }
   ],
   "source": [
    "console = Console()\n",
    "def run_test(test_name, **kwargs):\n",
    "    \"\"\"A helper function to run a search test and print results.\"\"\"\n",
    "    print(\"\\n\" + \"=\"*50)\n",
    "    console.print(f\"[bold cyan]Running Test: {test_name}[/bold cyan]\")\n",
    "    console.print(f\"Search Criteria: {kwargs}\")\n",
    "    \n",
    "    try:\n",
    "        results_df = search_file(**kwargs)\n",
    "        \n",
    "        if results_df.empty:\n",
    "            console.print(\"[yellow]Search returned no results.[/yellow]\")\n",
    "        else:\n",
    "            console.print(\"Search Results:\")\n",
    "            console.print(results_df[['file_id', 'original_file_name', 'author', 'research_project_id', 'date_conducted']])\n",
    "    except Exception as e:\n",
    "        console.print(f\"[white]An error occurred during the test: {e}[/white]\")\n",
    "        \n",
    "run_test(\n",
    "    \"Find files by Dr. Reed in ProjectAlpha\",\n",
    "    author=\"Reed\",\n",
    "    research_project_id=\"ProjectAlpha\"\n",
    ")"
   ]
  },
  {
   "cell_type": "code",
   "execution_count": 3,
   "id": "4b83d827",
   "metadata": {},
   "outputs": [
    {
     "ename": "FileConfigurationError",
     "evalue": "Could not create template file: [Errno 2] No such file or directory: ''",
     "output_type": "error",
     "traceback": [
      "\u001b[31m---------------------------------------------------------------------------\u001b[39m",
      "\u001b[31mFileNotFoundError\u001b[39m                         Traceback (most recent call last)",
      "\u001b[36mFile \u001b[39m\u001b[32m~/UEIL/ingestion_client/venv/lib/python3.13/site-packages/data_ingestion/ingestion.py:44\u001b[39m, in \u001b[36mgenerate_metadata_template\u001b[39m\u001b[34m(filepath, overwrite)\u001b[39m\n\u001b[32m     43\u001b[39m \u001b[38;5;28;01mtry\u001b[39;00m:\n\u001b[32m---> \u001b[39m\u001b[32m44\u001b[39m     \u001b[43mos\u001b[49m\u001b[43m.\u001b[49m\u001b[43mmakedirs\u001b[49m\u001b[43m(\u001b[49m\u001b[43mos\u001b[49m\u001b[43m.\u001b[49m\u001b[43mpath\u001b[49m\u001b[43m.\u001b[49m\u001b[43mdirname\u001b[49m\u001b[43m(\u001b[49m\u001b[43mfilepath\u001b[49m\u001b[43m)\u001b[49m\u001b[43m,\u001b[49m\u001b[43m \u001b[49m\u001b[43mexist_ok\u001b[49m\u001b[43m=\u001b[49m\u001b[38;5;28;43;01mTrue\u001b[39;49;00m\u001b[43m)\u001b[49m\n\u001b[32m     45\u001b[39m     \u001b[38;5;28;01mwith\u001b[39;00m \u001b[38;5;28mopen\u001b[39m(filepath, \u001b[33m\"\u001b[39m\u001b[33mw\u001b[39m\u001b[33m\"\u001b[39m) \u001b[38;5;28;01mas\u001b[39;00m f:\n",
      "\u001b[36mFile \u001b[39m\u001b[32m<frozen os>:227\u001b[39m, in \u001b[36mmakedirs\u001b[39m\u001b[34m(name, mode, exist_ok)\u001b[39m\n",
      "\u001b[31mFileNotFoundError\u001b[39m: [Errno 2] No such file or directory: ''",
      "\nDuring handling of the above exception, another exception occurred:\n",
      "\u001b[31mFileConfigurationError\u001b[39m                    Traceback (most recent call last)",
      "\u001b[36mCell\u001b[39m\u001b[36m \u001b[39m\u001b[32mIn[3]\u001b[39m\u001b[32m, line 1\u001b[39m\n\u001b[32m----> \u001b[39m\u001b[32m1\u001b[39m \u001b[43mgenerate_metadata_template\u001b[49m\u001b[43m(\u001b[49m\u001b[33;43m\"\u001b[39;49m\u001b[33;43mbeta_photo.yaml\u001b[39;49m\u001b[33;43m\"\u001b[39;49m\u001b[43m,\u001b[49m\u001b[43m \u001b[49m\u001b[43moverwrite\u001b[49m\u001b[43m=\u001b[49m\u001b[38;5;28;43;01mTrue\u001b[39;49;00m\u001b[43m)\u001b[49m\n",
      "\u001b[36mFile \u001b[39m\u001b[32m~/UEIL/ingestion_client/venv/lib/python3.13/site-packages/data_ingestion/ingestion.py:49\u001b[39m, in \u001b[36mgenerate_metadata_template\u001b[39m\u001b[34m(filepath, overwrite)\u001b[39m\n\u001b[32m     47\u001b[39m     logging.info(\u001b[33mf\u001b[39m\u001b[33m\"\u001b[39m\u001b[33mTemplate YAML created at: \u001b[39m\u001b[38;5;132;01m{\u001b[39;00mfilepath\u001b[38;5;132;01m}\u001b[39;00m\u001b[33m\"\u001b[39m)\n\u001b[32m     48\u001b[39m \u001b[38;5;28;01mexcept\u001b[39;00m \u001b[38;5;167;01mException\u001b[39;00m \u001b[38;5;28;01mas\u001b[39;00m e:\n\u001b[32m---> \u001b[39m\u001b[32m49\u001b[39m     \u001b[38;5;28;01mraise\u001b[39;00m FileConfigurationError(\u001b[33mf\u001b[39m\u001b[33m\"\u001b[39m\u001b[33mCould not create template file: \u001b[39m\u001b[38;5;132;01m{\u001b[39;00me\u001b[38;5;132;01m}\u001b[39;00m\u001b[33m\"\u001b[39m)\n",
      "\u001b[31mFileConfigurationError\u001b[39m: Could not create template file: [Errno 2] No such file or directory: ''"
     ]
    }
   ],
   "source": [
    "generate_metadata_template(\"beta_photo.yaml\", overwrite=True)"
   ]
  },
  {
   "cell_type": "code",
   "execution_count": 3,
   "id": "8bacf4e6",
   "metadata": {},
   "outputs": [
    {
     "name": "stdout",
     "output_type": "stream",
     "text": [
      "\n",
      "==================================================\n"
     ]
    },
    {
     "data": {
      "text/html": [
       "<pre style=\"white-space:pre;overflow-x:auto;line-height:normal;font-family:Menlo,'DejaVu Sans Mono',consolas,'Courier New',monospace\"><span style=\"color: #008080; text-decoration-color: #008080; font-weight: bold\">Running Test: Find JPG files in ProjectBeta</span>\n",
       "</pre>\n"
      ],
      "text/plain": [
       "\u001b[1;36mRunning Test: Find JPG files in ProjectBeta\u001b[0m\n"
      ]
     },
     "metadata": {},
     "output_type": "display_data"
    },
    {
     "data": {
      "text/html": [
       "<pre style=\"white-space:pre;overflow-x:auto;line-height:normal;font-family:Menlo,'DejaVu Sans Mono',consolas,'Courier New',monospace\">Search Criteria: <span style=\"font-weight: bold\">{</span><span style=\"color: #008000; text-decoration-color: #008000\">'research_project_id'</span>: <span style=\"color: #008000; text-decoration-color: #008000\">'ProjectBeta'</span>, <span style=\"color: #008000; text-decoration-color: #008000\">'file_type'</span>: <span style=\"color: #008000; text-decoration-color: #008000\">'JPG'</span><span style=\"font-weight: bold\">}</span>\n",
       "</pre>\n"
      ],
      "text/plain": [
       "Search Criteria: \u001b[1m{\u001b[0m\u001b[32m'research_project_id'\u001b[0m: \u001b[32m'ProjectBeta'\u001b[0m, \u001b[32m'file_type'\u001b[0m: \u001b[32m'JPG'\u001b[0m\u001b[1m}\u001b[0m\n"
      ]
     },
     "metadata": {},
     "output_type": "display_data"
    },
    {
     "name": "stderr",
     "output_type": "stream",
     "text": [
      "INFO: Querying API at http://localhost:8001/search/ with parameters: {'research_project_id': 'ProjectBeta', 'file_type': 'JPG'}\n",
      "INFO: Search returned no results.\n"
     ]
    },
    {
     "data": {
      "text/html": [
       "<pre style=\"white-space:pre;overflow-x:auto;line-height:normal;font-family:Menlo,'DejaVu Sans Mono',consolas,'Courier New',monospace\"><span style=\"color: #808000; text-decoration-color: #808000\">Search returned no results.</span>\n",
       "</pre>\n"
      ],
      "text/plain": [
       "\u001b[33mSearch returned no results.\u001b[0m\n"
      ]
     },
     "metadata": {},
     "output_type": "display_data"
    }
   ],
   "source": [
    "run_test(\n",
    "    \"Find JPG files in ProjectBeta\",\n",
    "    research_project_id=\"ProjectBeta\",\n",
    "    file_type=\"JPG\"\n",
    ")"
   ]
  }
 ],
 "metadata": {
  "kernelspec": {
   "display_name": "venv",
   "language": "python",
   "name": "python3"
  },
  "language_info": {
   "codemirror_mode": {
    "name": "ipython",
    "version": 3
   },
   "file_extension": ".py",
   "mimetype": "text/x-python",
   "name": "python",
   "nbconvert_exporter": "python",
   "pygments_lexer": "ipython3",
   "version": "3.13.4"
  }
 },
 "nbformat": 4,
 "nbformat_minor": 5
}
